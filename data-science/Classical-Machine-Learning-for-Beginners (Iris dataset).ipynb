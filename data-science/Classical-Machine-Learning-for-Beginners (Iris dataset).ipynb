{
 "cells": [
  {
   "cell_type": "markdown",
   "metadata": {},
   "source": [
    "# Introduction to Machine Learning #\n",
    "Author: Christin Seifert, licensed under the Creative Commons Attribution 3.0 Unported License https://creativecommons.org/licenses/by/3.0/\n",
    "\n",
    "This is a tutorial for implementing a simple machine learning pipeline aimed at machine learning beginners. \n",
    "In this notebook we will\n",
    "* train classifiers to classify iris flowers\n",
    "* evaluate how well the classifiers do that in general\n",
    "* dig a little deeper on where they might have problems\n",
    "\n",
    "It is assumed that you have some general knowledge on \n",
    "* what a decision tree is and how it works\n",
    "* how the Naive Bayes classifier works\n",
    "* training and testing splits of data sets\n",
    "* evaluation measures for classification (namely accuracy)"
   ]
  },
  {
   "cell_type": "markdown",
   "metadata": {},
   "source": [
    "## Setup\n",
    "First, we import all the python libraries we will need later"
   ]
  },
  {
   "cell_type": "code",
   "execution_count": 1,
   "metadata": {},
   "outputs": [],
   "source": [
    "# pythons scientific computing package and a random number generator\n",
    "import numpy as np\n",
    "import random\n",
    "# machine learning classifiers and metrics\n",
    "from sklearn.naive_bayes import MultinomialNB\n",
    "from sklearn.tree import DecisionTreeClassifier\n",
    "from sklearn.metrics import accuracy_score\n",
    "from sklearn.metrics import confusion_matrix\n",
    "# standard data sets in python\n",
    "from sklearn import datasets\n",
    "# create random train and test splits\n",
    "from sklearn.model_selection import train_test_split\n",
    "\n",
    "# plotting tool\n",
    "import matplotlib.pyplot as plt"
   ]
  },
  {
   "cell_type": "markdown",
   "metadata": {},
   "source": [
    "Ok, let's get the data, then and have a look at some examples. It seems that there is a lot of variation for some numbers there. Can you make a decision which number you see wih high confidence for each of the examples?"
   ]
  },
  {
   "cell_type": "code",
   "execution_count": 2,
   "metadata": {},
   "outputs": [],
   "source": [
    "# load data\n",
    "data = datasets.load_iris()\n",
    "X_train, X_test, y_train, y_test = train_test_split(data.data,data.target,shuffle=True,test_size=0.2, random_state=42)"
   ]
  },
  {
   "cell_type": "code",
   "execution_count": 3,
   "metadata": {},
   "outputs": [
    {
     "name": "stdout",
     "output_type": "stream",
     "text": [
      "[[5.7 4.4 1.5 0.4]\n",
      " [6.7 3.1 4.4 1.4]\n",
      " [4.8 3.4 1.6 0.2]\n",
      " [4.4 3.2 1.3 0.2]]\n",
      "[0 1 0 0]\n"
     ]
    }
   ],
   "source": [
    "#show examples from data set\n",
    "#let's look at the first 5 examples\n",
    "print(X_train[1:5])\n",
    "print(y_train[1:5])"
   ]
  },
  {
   "cell_type": "markdown",
   "metadata": {},
   "source": [
    "## Feature Generation\n",
    "We do not need to generate any features hear, because we already have a nice matrix with features."
   ]
  },
  {
   "cell_type": "code",
   "execution_count": 4,
   "metadata": {},
   "outputs": [
    {
     "name": "stdout",
     "output_type": "stream",
     "text": [
      "(120, 4)\n",
      "(30, 4)\n"
     ]
    }
   ],
   "source": [
    "# investigate the size of the feature matrices\n",
    "print(X_train.shape)\n",
    "print(X_test.shape)"
   ]
  },
  {
   "cell_type": "markdown",
   "metadata": {},
   "source": [
    "So, we have 120 data items for training and 30 for testing."
   ]
  },
  {
   "cell_type": "markdown",
   "metadata": {},
   "source": [
    "## Training the Naive Bayes Classifier\n",
    "Now we are nearly ready to train our first classifier. One thing still needs to be said. Classification is a supervised machine learning task. This means, we give the classifier a feature vector together with the desired output (the target). The targets were also loaded from the original data set and reside in the vector $y_{train}$. Putting things together, the classifier gets a matrix, which contains one row for each image and as many columns as we have features. And it also gets a vector of targets, that is as long as we have images. Thus the number of rows in $X_{train}$ is equal to the length of $y_{train}$. Isn't this neat?\n",
    "\n",
    "Now we finally can train our first model (a model is a trained classifer). The scikit learn library in python uses standard interfaces to all classifiers. This means, no matter which classifier you want to use, the functions you have to call are always named the same (but they might have different parameters). "
   ]
  },
  {
   "cell_type": "code",
   "execution_count": 5,
   "metadata": {},
   "outputs": [
    {
     "data": {
      "text/plain": [
       "MultinomialNB(alpha=1.0, class_prior=None, fit_prior=True)"
      ]
     },
     "execution_count": 5,
     "metadata": {},
     "output_type": "execute_result"
    }
   ],
   "source": [
    "# initialize the model with standard parameters\n",
    "clf_nb = MultinomialNB()\n",
    "# train the model\n",
    "clf_nb.fit(X_train,y_train)"
   ]
  },
  {
   "cell_type": "markdown",
   "metadata": {},
   "source": [
    "## Evaluating the Naive Bayes classifier\n",
    "Ok, nice. We have trained a model. In the code, the model is called `clf_nb`. But, is it a good model? To answer this, we need to evaluate the model on data it has not yet seen, that is on `X_test` and the respective labels `y_test`. \n",
    "\n",
    "We do this in two steps:\n",
    "\n",
    "1. We ask the classifier about its opinion by only giving it the test data (without the labels). This step is called **prediction**. We store the results in a vector `y_test_pred_nb`. \n",
    "\n",
    "2. We count how often the classifier's predictions are the same as the correct labels. This step is called **evaluaton**. The counting is already conveniently implemented in the library, so we only need to call a function `accuracy_score()` which returns us the ratio of correct predictions and total items. If you multiply this ratio by 100 you get a value that can be interpreted as \"the classifier is ... percent correct on the test data\".\n",
    "\n",
    "Thus, we can conclude, the classifier has an accuracy of approximately 90%. Or in other words, it misclassifies 10% of the examples. Is this good or bad? Has it learned something? What if we got a value of 50%. Would this be good? \n",
    "\n",
    "Whether it has learned _something_ can be answered quite easily. We could simply compared it to random guessing. There are 3 classes in the data set. In the test set, there is an equal amount of examples for each class. Or in other words, the examples are uniformly distributed over the classes. You could easily check this by inspecting `y_test`. If the classifier would randomly guess, which digit it sees, it would have a 33% chance of getting it right. So, it has learned quite a lot. "
   ]
  },
  {
   "cell_type": "code",
   "execution_count": 6,
   "metadata": {},
   "outputs": [
    {
     "name": "stdout",
     "output_type": "stream",
     "text": [
      "0.9\n"
     ]
    }
   ],
   "source": [
    "# make predictions with the NB classifier\n",
    "y_test_pred_nb = clf_nb.predict(X_test);\n",
    "a_nb = accuracy_score(y_test, y_test_pred_nb);\n",
    "print(a_nb)"
   ]
  },
  {
   "cell_type": "markdown",
   "metadata": {},
   "source": [
    "## Training the decision tree classifier\n",
    "We train the decision tree classifier in a similar manner as we trained the Naive Bayes classifier. Note, that the function calls are equivalent.\n",
    "\n",
    "_Note: you might notice, that training of a decision tree can take some seconds._"
   ]
  },
  {
   "cell_type": "code",
   "execution_count": 7,
   "metadata": {},
   "outputs": [
    {
     "data": {
      "text/plain": [
       "DecisionTreeClassifier(class_weight=None, criterion='gini', max_depth=None,\n",
       "            max_features=None, max_leaf_nodes=None,\n",
       "            min_impurity_decrease=0.0, min_impurity_split=None,\n",
       "            min_samples_leaf=1, min_samples_split=2,\n",
       "            min_weight_fraction_leaf=0.0, presort=False, random_state=None,\n",
       "            splitter='best')"
      ]
     },
     "execution_count": 7,
     "metadata": {},
     "output_type": "execute_result"
    }
   ],
   "source": [
    "clf_dt = DecisionTreeClassifier();\n",
    "clf_dt.fit(X_train,y_train)"
   ]
  },
  {
   "cell_type": "markdown",
   "metadata": {},
   "source": [
    "## Evaluating the decision tree classifier\n",
    "Now, let's see how well this model performs on the test set. \n",
    "\n",
    "It achieves an accuracy of about 100%, thus getting no examples wrong. This seems a bit better than the Naive Bayes classifier."
   ]
  },
  {
   "cell_type": "code",
   "execution_count": 8,
   "metadata": {},
   "outputs": [
    {
     "name": "stdout",
     "output_type": "stream",
     "text": [
      "1.0\n"
     ]
    }
   ],
   "source": [
    "# make predictions with the decision tree classifier\n",
    "y_test_pred_dt = clf_dt.predict(X_test)\n",
    "a_dt = accuracy_score(y_test, y_test_pred_dt)\n",
    "print(a_dt)"
   ]
  },
  {
   "cell_type": "markdown",
   "metadata": {},
   "source": [
    "## More detailed error analysis\n",
    "Can we find out more about the mistakes both models still make? If we could, we could probably find ways to improve it. Or it might also be the case that we might find errors in the underlying data (e.g. mislabeled images, images that do not contain digits at all). The latter case is in this example rather unlikely, since this data set has been studied already for a long time and by many different researchers and practicioners. \n",
    "\n",
    "### Confusion matrices\n",
    "One thing we could ask is which digits get often confused with one another. Or more generally, which classes often get confused? We can easily asses this, since we have the predictions and the true labels. So, for each digit we just have to count how often label $l$ in the ground truth is predicted as label $k$. We display this in matrix form, this matrix is called _class confusion matrix_ $C$. Entry $(i,j)$ in this matrix holds the count of how often the target $i$ was predicted as $j$. \n",
    "\n",
    "The strength of the confusion (i.e., the total number of misclassified examples) is indicated with a color in the respective cell. "
   ]
  },
  {
   "cell_type": "code",
   "execution_count": 9,
   "metadata": {},
   "outputs": [
    {
     "data": {
      "image/png": "[encoded data removed]",
      "text/plain": [
       "<Figure size 432x288 with 4 Axes>"
      ]
     },
     "metadata": {},
     "output_type": "display_data"
    }
   ],
   "source": [
    "# get the confusion matrices for both classifiers\n",
    "cm_nb = confusion_matrix(y_test, y_test_pred_nb);\n",
    "cm_dt = confusion_matrix(y_test, y_test_pred_dt);\n",
    "\n",
    "# plot the confusion matrices nicely\n",
    "plt.subplot(1, 2, 1)    \n",
    "plt.title('Decision Tree', fontsize=16)\n",
    "plt.imshow(cm_dt, interpolation='nearest',cmap=plt.cm.binary);\n",
    "plt.tight_layout();\n",
    "plt.colorbar();\n",
    "plt.ylabel('True label');\n",
    "plt.xlabel('Predicted label');\n",
    "plt.xticks(np.arange(3));\n",
    "plt.yticks(np.arange(3));\n",
    "\n",
    "plt.subplot(1, 2, 2) \n",
    "plt.title('Naive Bayes', fontsize=16)\n",
    "plt.imshow(cm_nb, interpolation='nearest',cmap=plt.cm.binary);\n",
    "plt.tight_layout();\n",
    "plt.colorbar();\n",
    "plt.ylabel('True label');\n",
    "plt.xlabel('Predicted label');\n",
    "plt.xticks(np.arange(3));\n",
    "plt.yticks(np.arange(3));\n"
   ]
  },
  {
   "cell_type": "markdown",
   "metadata": {},
   "source": [
    "Both plots show a nice dark diagonal. This indicates that most of the examples are predicted correctly (as we know from the accuracy measures). TBD: some more detailed conclusion.."
   ]
  },
  {
   "cell_type": "markdown",
   "metadata": {},
   "source": [
    "## Summary\n",
    "We have seen a very basic machine learning pipeline. We trained two different classifiers on the same data set and compared them. There are, of course as always ;-) many more things one could try, some of them are:\n",
    "\n",
    "* have a detailed look a the images that were misclassified\n",
    "* use more sophisticated features than just pixel values\n",
    "* try different classifiers\n",
    "* distort the test images and see how robust the classifiers are to noisy input.\n",
    "\n",
    "### Take-Aways\n",
    "1. A classifier needs feature vectors as input, so the input data has first to be transformed in a suitable format.\n",
    "1. Always train and evaluate on different data set splits.\n",
    "1. Accuracy alone is not a helpful measure, you need to compare it to something, at least the random baseline.\n",
    "1. Confusion matrices are a handy tool to pin-point the errors.\n",
    "\n",
    "That's all for today. "
   ]
  },
  {
   "cell_type": "code",
   "execution_count": null,
   "metadata": {},
   "outputs": [],
   "source": []
  }
 ],
 "metadata": {
  "kernelspec": {
   "display_name": "Python 3",
   "language": "python",
   "name": "python3"
  },
  "language_info": {
   "codemirror_mode": {
    "name": "ipython",
    "version": 3
   },
   "file_extension": ".py",
   "mimetype": "text/x-python",
   "name": "python",
   "nbconvert_exporter": "python",
   "pygments_lexer": "ipython3",
   "version": "3.6.6"
  }
 },
 "nbformat": 4,
 "nbformat_minor": 2
}
