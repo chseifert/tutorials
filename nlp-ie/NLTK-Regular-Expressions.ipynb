{
 "cells": [
  {
   "cell_type": "markdown",
   "metadata": {},
   "source": [
    "# NLTK Regular Expressions #\n",
    "Author: Christin Seifert, licensed under the Creative Commons Attribution 3.0 Unported License https://creativecommons.org/licenses/by/3.0/\n",
    "\n",
    "This is a tutorial for simple text processing with python using the [nltk library](https://www.nltk.org/). For further reading I recommend the extensive online book of nltk [available here](https://www.nltk.org/book/).\n",
    "In this notebook we will\n",
    "* load text files from disk\n",
    "* find word patterns with regular expressions (and see where they fail)\n",
    "\n",
    "It is assumed that you have some general knowledge on \n",
    "* basic python"
   ]
  },
  {
   "cell_type": "markdown",
   "metadata": {},
   "source": [
    "## Setup \n",
    "If you have never used nltk before you need to download the example copora. Uncomment the `nltk.download` to do so. We also want the nltk library, the library (`re`) for regular expression."
   ]
  },
  {
   "cell_type": "code",
   "execution_count": 1,
   "metadata": {},
   "outputs": [],
   "source": [
    "import nltk, re\n",
    "from nltk import word_tokenize\n",
    "# NOTE if the data (corpora, example files) is not yet downloaded, this needs to be done first\n",
    "# nltk.download()\n"
   ]
  },
  {
   "cell_type": "markdown",
   "metadata": {},
   "source": [
    "Let's see which free resources are readily available. And then let's have a closer look at Shakespeare's Hamlet (to pretent we are literature freaks). "
   ]
  },
  {
   "cell_type": "code",
   "execution_count": 2,
   "metadata": {},
   "outputs": [
    {
     "name": "stdout",
     "output_type": "stream",
     "text": [
      "['austen-emma.txt', 'austen-persuasion.txt', 'austen-sense.txt', 'bible-kjv.txt', 'blake-poems.txt', 'bryant-stories.txt', 'burgess-busterbrown.txt', 'carroll-alice.txt', 'chesterton-ball.txt', 'chesterton-brown.txt', 'chesterton-thursday.txt', 'edgeworth-parents.txt', 'melville-moby_dick.txt', 'milton-paradise.txt', 'shakespeare-caesar.txt', 'shakespeare-hamlet.txt', 'shakespeare-macbeth.txt', 'whitman-leaves.txt']\n",
      "37360\n"
     ]
    }
   ],
   "source": [
    "print(nltk.corpus.gutenberg.fileids())\n",
    "hamlet = nltk.corpus.gutenberg.words('shakespeare-hamlet.txt')\n",
    "print(len(hamlet))"
   ]
  },
  {
   "cell_type": "markdown",
   "metadata": {},
   "source": [
    "## Regular Expressions\n",
    "So Shakespeare used 37360 words to write Hamlet. Let's investigate which patterns we find there. "
   ]
  },
  {
   "cell_type": "markdown",
   "metadata": {},
   "source": [
    "* In which word does the character sequence \"wre\" occur?"
   ]
  },
  {
   "cell_type": "code",
   "execution_count": 3,
   "metadata": {},
   "outputs": [
    {
     "data": {
      "text/plain": [
       "['wretch',\n",
       " 'wretch',\n",
       " 'wretched',\n",
       " 'powres',\n",
       " 'Powres',\n",
       " 'wretched',\n",
       " 'wretched',\n",
       " 'showres',\n",
       " 'wretch',\n",
       " 'wretched']"
      ]
     },
     "execution_count": 3,
     "metadata": {},
     "output_type": "execute_result"
    }
   ],
   "source": [
    "[w for w in hamlet if re.search('wre', w)]"
   ]
  },
  {
   "cell_type": "markdown",
   "metadata": {},
   "source": [
    "* And which of them actually start with \"wre\"?"
   ]
  },
  {
   "cell_type": "code",
   "execution_count": 4,
   "metadata": {},
   "outputs": [
    {
     "data": {
      "text/plain": [
       "['wretch', 'wretch', 'wretched', 'wretched', 'wretched', 'wretch', 'wretched']"
      ]
     },
     "execution_count": 4,
     "metadata": {},
     "output_type": "execute_result"
    }
   ],
   "source": [
    "[w for w in hamlet if re.search('^wre', w)]"
   ]
  },
  {
   "cell_type": "markdown",
   "metadata": {},
   "source": [
    "* Find all words that start with \"T\" or \"t\", end with \"r\" and have exactly 3 other characters in the middle. To implement the \"T\" or \"t\" we use a character class specified by the brackets `[]`. `[Tt]`matches either \"T\" or \"t\". \n",
    "For macthing any character (no whitespace) we could use the character class `[a-zA-Z]`, but using the abbreviation `\\D`is much more convenient. Further predefined character classes are:\n",
    "  * `\\d` Matches any decimal digit\n",
    "  * `\\D` Matches any non-digit character\n",
    "  * `\\s` Matches any whitespace character (this could be line endings, blanks or tabs). This is tricky, because some of them are not visible if you look at the text with a text editor."
   ]
  },
  {
   "cell_type": "code",
   "execution_count": 5,
   "metadata": {},
   "outputs": [
    {
     "data": {
      "text/plain": [
       "['Thunder',\n",
       " 'truster',\n",
       " 'thither',\n",
       " 'Thunder',\n",
       " 'Theater',\n",
       " 'thicker',\n",
       " 'thither',\n",
       " 'thether']"
      ]
     },
     "execution_count": 5,
     "metadata": {},
     "output_type": "execute_result"
    }
   ],
   "source": [
    "[w for w in hamlet if re.search('^[Tt]\\w{5,5}r$', w)]"
   ]
  },
  {
   "cell_type": "markdown",
   "metadata": {},
   "source": [
    "* Did Shakespeare use any numbers (written as digits?) For macthing all the digits, we could similarly use `[0123456789]` or `[0-9]`, but using the abbreviation `\\d`is much more convenient.  "
   ]
  },
  {
   "cell_type": "code",
   "execution_count": 6,
   "metadata": {},
   "outputs": [
    {
     "data": {
      "text/plain": [
       "['1599', '1', '1', '1', '1']"
      ]
     },
     "execution_count": 6,
     "metadata": {},
     "output_type": "execute_result"
    }
   ],
   "source": [
    "[w for w in hamlet if re.search('\\d', w)]"
   ]
  },
  {
   "cell_type": "markdown",
   "metadata": {},
   "source": [
    "* And is there something that starts with z and ends with g?"
   ]
  },
  {
   "cell_type": "code",
   "execution_count": 7,
   "metadata": {},
   "outputs": [
    {
     "data": {
      "text/plain": [
       "[]"
      ]
     },
     "execution_count": 7,
     "metadata": {},
     "output_type": "execute_result"
    }
   ],
   "source": [
    "[w for w in hamlet if re.search('^z.*g$', w)]"
   ]
  },
  {
   "cell_type": "markdown",
   "metadata": {},
   "source": [
    "In the last example we can not be sure whether there is definitely nothing or whether we got the regular expression wrong. To find out which one is the case, create a string you know should match and test your expression there."
   ]
  },
  {
   "cell_type": "code",
   "execution_count": 8,
   "metadata": {},
   "outputs": [
    {
     "data": {
      "text/plain": [
       "['zarhhg', 'zhang', 'zg']"
      ]
     },
     "execution_count": 8,
     "metadata": {},
     "output_type": "execute_result"
    }
   ],
   "source": [
    "[w for w in [\"zarhhg\",\"zhang\",\"zg\",\"42\"] if re.search('^z.*g$', w)]\n"
   ]
  },
  {
   "cell_type": "markdown",
   "metadata": {},
   "source": [
    "That's all for the short introduction. See [the documentation of the re library](https://docs.python.org/2/library/re.html) for more examples on regular expressions."
   ]
  }
 ],
 "metadata": {
  "kernelspec": {
   "display_name": "Python 3",
   "language": "python",
   "name": "python3"
  },
  "language_info": {
   "codemirror_mode": {
    "name": "ipython",
    "version": 3
   },
   "file_extension": ".py",
   "mimetype": "text/x-python",
   "name": "python",
   "nbconvert_exporter": "python",
   "pygments_lexer": "ipython3",
   "version": "3.6.8"
  }
 },
 "nbformat": 4,
 "nbformat_minor": 2
}
