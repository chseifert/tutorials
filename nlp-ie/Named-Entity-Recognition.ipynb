{
 "cells": [
  {
   "cell_type": "markdown",
   "metadata": {},
   "source": [
    "# Named Entity Recognition #\n",
    "\n",
    "Author: Christin Seifert, licensed under the Creative Commons Attribution 3.0 Unported License https://creativecommons.org/licenses/by/3.0/ \n",
    "\n",
    "This is a tutorial for NER (named entity recognition). In this tutorial you will see \n",
    "* how to apply a pre-trained named entity recognition model to your text\n",
    "\n",
    "It is assumed that you have some general knowledge on \n",
    "* .. no particular knowledge required. You should be able to read texts, though ;-)\n",
    "\n",
    "**Prerequisites**. We first need to install the Stanford NER tagger from [here](https://nlp.stanford.edu/software/CRF-NER.shtml). And java also has to be installed. \n",
    "You have to figure out\n",
    "* where the jar file `stanford-ner.jar` is located\n",
    "* where the pretrained models (e.g. `english.all.3class.distsim.crf.ser.gz`) is located, this is the subdirectory classifiers\n",
    "* whether the right version of java is installed. On a command line type `java -version` to see the version. Refer back to the documentation on the stanford nlp page to see which version is needed.\n",
    "\n",
    "You can also test the NER tagger online [here](http://nlp.stanford.edu:8080/ner/).\n"
   ]
  },
  {
   "cell_type": "code",
   "execution_count": 7,
   "metadata": {},
   "outputs": [
    {
     "name": "stdout",
     "output_type": "stream",
     "text": [
      "<nltk.tag.stanford.StanfordNERTagger object at 0x1a1d98af60>\n",
      "<nltk.tag.stanford.StanfordNERTagger object at 0x1a1d98af28>\n"
     ]
    }
   ],
   "source": [
    "from nltk.tag import StanfordNERTagger\n",
    "from nltk.tokenize import word_tokenize\n",
    "\n",
    "# Adapt those lines to your installation\n",
    "jar_location = '/Users/sech/stanford-ner-2018-10-16/stanford-ner.jar'\n",
    "model_location_3classes = '/Users/sech/stanford-ner-2018-10-16/classifiers/english.all.3class.distsim.crf.ser.gz'\n",
    "model_location_7classes = '/Users/sech/stanford-ner-2018-10-16/classifiers/english.muc.7class.distsim.crf.ser.gz'\n",
    "st3 = StanfordNERTagger(model_location_3classes,jar_location,encoding='utf-8')\n",
    "st7 = StanfordNERTagger(model_location_7classes,jar_location,encoding='utf-8')\n",
    "\n",
    "print(st3)\n",
    "print(st7)\n"
   ]
  },
  {
   "cell_type": "markdown",
   "metadata": {},
   "source": [
    "Let's take a paragraph from the [Wikipedia page of Ada Lovelace](https://en.wikipedia.org/wiki/Ada_Lovelace) as an example. We need to put the text in triple quotes since the text itself contains quoting characters."
   ]
  },
  {
   "cell_type": "code",
   "execution_count": 10,
   "metadata": {},
   "outputs": [
    {
     "name": "stdout",
     "output_type": "stream",
     "text": [
      "Lovelace became close friends with her tutor Mary Somerville, who introduced her to Charles Babbage in 1833. She had a strong respect and affection for Somerville, and they corresponded for many years. Other acquaintances included the scientists Andrew Crosse, Sir David Brewster, Charles Wheatstone, Michael Faraday and the author Charles Dickens. She was presented at Court at the age of seventeen \"and became a popular belle of the season\" in part because of her \"brilliant mind.\" By 1834 Ada was a regular at Court and started attending various events. She danced often and was able to charm many people, and was described by most people as being dainty, although John Hobhouse, Byron's friend, described her as \"a large, coarse-skinned young woman but with something of my friend's features, particularly the mouth\". This description followed their meeting on 24 February 1834 in which Ada made it clear to Hobhouse that she did not like him, probably because of the influence of her mother, which led her to dislike all of her father's friends. This first impression was not to last, and they later became friends.\n"
     ]
    }
   ],
   "source": [
    "text = '''Lovelace became close friends with her tutor Mary Somerville, who introduced her to Charles Babbage in 1833. She had a strong respect and affection for Somerville, and they corresponded for many years. Other acquaintances included the scientists Andrew Crosse, Sir David Brewster, Charles Wheatstone, Michael Faraday and the author Charles Dickens. She was presented at Court at the age of seventeen \"and became a popular belle of the season\" in part because of her \"brilliant mind.\" By 1834 Ada was a regular at Court and started attending various events. She danced often and was able to charm many people, and was described by most people as being dainty, although John Hobhouse, Byron's friend, described her as \"a large, coarse-skinned young woman but with something of my friend's features, particularly the mouth\". This description followed their meeting on 24 February 1834 in which Ada made it clear to Hobhouse that she did not like him, probably because of the influence of her mother, which led her to dislike all of her father's friends. This first impression was not to last, and they later became friends.'''\n",
    "print(text)"
   ]
  },
  {
   "cell_type": "markdown",
   "metadata": {},
   "source": [
    "First we need to tokenize the text and then we apply the NER tagger. Let's try both, the 3 class version and the 7 class version."
   ]
  },
  {
   "cell_type": "code",
   "execution_count": 11,
   "metadata": {},
   "outputs": [
    {
     "name": "stdout",
     "output_type": "stream",
     "text": [
      "[('Lovelace', 'PERSON'), ('became', 'O'), ('close', 'O'), ('friends', 'O'), ('with', 'O'), ('her', 'O'), ('tutor', 'O'), ('Mary', 'PERSON'), ('Somerville', 'PERSON'), (',', 'O'), ('who', 'O'), ('introduced', 'O'), ('her', 'O'), ('to', 'O'), ('Charles', 'PERSON'), ('Babbage', 'PERSON'), ('in', 'O'), ('1833', 'O'), ('.', 'O'), ('She', 'O'), ('had', 'O'), ('a', 'O'), ('strong', 'O'), ('respect', 'O'), ('and', 'O'), ('affection', 'O'), ('for', 'O'), ('Somerville', 'LOCATION'), (',', 'O'), ('and', 'O'), ('they', 'O'), ('corresponded', 'O'), ('for', 'O'), ('many', 'O'), ('years', 'O'), ('.', 'O'), ('Other', 'O'), ('acquaintances', 'O'), ('included', 'O'), ('the', 'O'), ('scientists', 'O'), ('Andrew', 'PERSON'), ('Crosse', 'PERSON'), (',', 'O'), ('Sir', 'O'), ('David', 'PERSON'), ('Brewster', 'PERSON'), (',', 'O'), ('Charles', 'PERSON'), ('Wheatstone', 'PERSON'), (',', 'O'), ('Michael', 'PERSON'), ('Faraday', 'PERSON'), ('and', 'O'), ('the', 'O'), ('author', 'O'), ('Charles', 'PERSON'), ('Dickens', 'PERSON'), ('.', 'O'), ('She', 'O'), ('was', 'O'), ('presented', 'O'), ('at', 'O'), ('Court', 'O'), ('at', 'O'), ('the', 'O'), ('age', 'O'), ('of', 'O'), ('seventeen', 'O'), ('``', 'O'), ('and', 'O'), ('became', 'O'), ('a', 'O'), ('popular', 'O'), ('belle', 'O'), ('of', 'O'), ('the', 'O'), ('season', 'O'), (\"''\", 'O'), ('in', 'O'), ('part', 'O'), ('because', 'O'), ('of', 'O'), ('her', 'O'), ('``', 'O'), ('brilliant', 'O'), ('mind', 'O'), ('.', 'O'), (\"''\", 'O'), ('By', 'O'), ('1834', 'O'), ('Ada', 'PERSON'), ('was', 'O'), ('a', 'O'), ('regular', 'O'), ('at', 'O'), ('Court', 'O'), ('and', 'O'), ('started', 'O'), ('attending', 'O'), ('various', 'O'), ('events', 'O'), ('.', 'O'), ('She', 'O'), ('danced', 'O'), ('often', 'O'), ('and', 'O'), ('was', 'O'), ('able', 'O'), ('to', 'O'), ('charm', 'O'), ('many', 'O'), ('people', 'O'), (',', 'O'), ('and', 'O'), ('was', 'O'), ('described', 'O'), ('by', 'O'), ('most', 'O'), ('people', 'O'), ('as', 'O'), ('being', 'O'), ('dainty', 'O'), (',', 'O'), ('although', 'O'), ('John', 'PERSON'), ('Hobhouse', 'PERSON'), (',', 'O'), ('Byron', 'PERSON'), (\"'s\", 'O'), ('friend', 'O'), (',', 'O'), ('described', 'O'), ('her', 'O'), ('as', 'O'), ('``', 'O'), ('a', 'O'), ('large', 'O'), (',', 'O'), ('coarse-skinned', 'O'), ('young', 'O'), ('woman', 'O'), ('but', 'O'), ('with', 'O'), ('something', 'O'), ('of', 'O'), ('my', 'O'), ('friend', 'O'), (\"'s\", 'O'), ('features', 'O'), (',', 'O'), ('particularly', 'O'), ('the', 'O'), ('mouth', 'O'), (\"''\", 'O'), ('.', 'O'), ('This', 'O'), ('description', 'O'), ('followed', 'O'), ('their', 'O'), ('meeting', 'O'), ('on', 'O'), ('24', 'O'), ('February', 'O'), ('1834', 'O'), ('in', 'O'), ('which', 'O'), ('Ada', 'PERSON'), ('made', 'O'), ('it', 'O'), ('clear', 'O'), ('to', 'O'), ('Hobhouse', 'PERSON'), ('that', 'O'), ('she', 'O'), ('did', 'O'), ('not', 'O'), ('like', 'O'), ('him', 'O'), (',', 'O'), ('probably', 'O'), ('because', 'O'), ('of', 'O'), ('the', 'O'), ('influence', 'O'), ('of', 'O'), ('her', 'O'), ('mother', 'O'), (',', 'O'), ('which', 'O'), ('led', 'O'), ('her', 'O'), ('to', 'O'), ('dislike', 'O'), ('all', 'O'), ('of', 'O'), ('her', 'O'), ('father', 'O'), (\"'s\", 'O'), ('friends', 'O'), ('.', 'O'), ('This', 'O'), ('first', 'O'), ('impression', 'O'), ('was', 'O'), ('not', 'O'), ('to', 'O'), ('last', 'O'), (',', 'O'), ('and', 'O'), ('they', 'O'), ('later', 'O'), ('became', 'O'), ('friends', 'O'), ('.', 'O')]\n",
      "[('Lovelace', 'O'), ('became', 'O'), ('close', 'O'), ('friends', 'O'), ('with', 'O'), ('her', 'O'), ('tutor', 'O'), ('Mary', 'PERSON'), ('Somerville', 'PERSON'), (',', 'O'), ('who', 'O'), ('introduced', 'O'), ('her', 'O'), ('to', 'O'), ('Charles', 'PERSON'), ('Babbage', 'PERSON'), ('in', 'O'), ('1833', 'DATE'), ('.', 'O'), ('She', 'O'), ('had', 'O'), ('a', 'O'), ('strong', 'O'), ('respect', 'O'), ('and', 'O'), ('affection', 'O'), ('for', 'O'), ('Somerville', 'LOCATION'), (',', 'O'), ('and', 'O'), ('they', 'O'), ('corresponded', 'O'), ('for', 'O'), ('many', 'O'), ('years', 'O'), ('.', 'O'), ('Other', 'O'), ('acquaintances', 'O'), ('included', 'O'), ('the', 'O'), ('scientists', 'O'), ('Andrew', 'PERSON'), ('Crosse', 'PERSON'), (',', 'O'), ('Sir', 'O'), ('David', 'PERSON'), ('Brewster', 'PERSON'), (',', 'O'), ('Charles', 'PERSON'), ('Wheatstone', 'PERSON'), (',', 'O'), ('Michael', 'PERSON'), ('Faraday', 'PERSON'), ('and', 'O'), ('the', 'O'), ('author', 'O'), ('Charles', 'PERSON'), ('Dickens', 'PERSON'), ('.', 'O'), ('She', 'O'), ('was', 'O'), ('presented', 'O'), ('at', 'O'), ('Court', 'O'), ('at', 'O'), ('the', 'O'), ('age', 'O'), ('of', 'O'), ('seventeen', 'O'), ('``', 'O'), ('and', 'O'), ('became', 'O'), ('a', 'O'), ('popular', 'O'), ('belle', 'O'), ('of', 'O'), ('the', 'O'), ('season', 'O'), (\"''\", 'O'), ('in', 'O'), ('part', 'O'), ('because', 'O'), ('of', 'O'), ('her', 'O'), ('``', 'O'), ('brilliant', 'O'), ('mind', 'O'), ('.', 'O'), (\"''\", 'O'), ('By', 'O'), ('1834', 'DATE'), ('Ada', 'ORGANIZATION'), ('was', 'O'), ('a', 'O'), ('regular', 'O'), ('at', 'O'), ('Court', 'O'), ('and', 'O'), ('started', 'O'), ('attending', 'O'), ('various', 'O'), ('events', 'O'), ('.', 'O'), ('She', 'O'), ('danced', 'O'), ('often', 'O'), ('and', 'O'), ('was', 'O'), ('able', 'O'), ('to', 'O'), ('charm', 'O'), ('many', 'O'), ('people', 'O'), (',', 'O'), ('and', 'O'), ('was', 'O'), ('described', 'O'), ('by', 'O'), ('most', 'O'), ('people', 'O'), ('as', 'O'), ('being', 'O'), ('dainty', 'O'), (',', 'O'), ('although', 'O'), ('John', 'PERSON'), ('Hobhouse', 'PERSON'), (',', 'O'), ('Byron', 'PERSON'), (\"'s\", 'O'), ('friend', 'O'), (',', 'O'), ('described', 'O'), ('her', 'O'), ('as', 'O'), ('``', 'O'), ('a', 'O'), ('large', 'O'), (',', 'O'), ('coarse-skinned', 'O'), ('young', 'O'), ('woman', 'O'), ('but', 'O'), ('with', 'O'), ('something', 'O'), ('of', 'O'), ('my', 'O'), ('friend', 'O'), (\"'s\", 'O'), ('features', 'O'), (',', 'O'), ('particularly', 'O'), ('the', 'O'), ('mouth', 'O'), (\"''\", 'O'), ('.', 'O'), ('This', 'O'), ('description', 'O'), ('followed', 'O'), ('their', 'O'), ('meeting', 'O'), ('on', 'O'), ('24', 'O'), ('February', 'DATE'), ('1834', 'DATE'), ('in', 'O'), ('which', 'O'), ('Ada', 'ORGANIZATION'), ('made', 'O'), ('it', 'O'), ('clear', 'O'), ('to', 'O'), ('Hobhouse', 'PERSON'), ('that', 'O'), ('she', 'O'), ('did', 'O'), ('not', 'O'), ('like', 'O'), ('him', 'O'), (',', 'O'), ('probably', 'O'), ('because', 'O'), ('of', 'O'), ('the', 'O'), ('influence', 'O'), ('of', 'O'), ('her', 'O'), ('mother', 'O'), (',', 'O'), ('which', 'O'), ('led', 'O'), ('her', 'O'), ('to', 'O'), ('dislike', 'O'), ('all', 'O'), ('of', 'O'), ('her', 'O'), ('father', 'O'), (\"'s\", 'O'), ('friends', 'O'), ('.', 'O'), ('This', 'O'), ('first', 'O'), ('impression', 'O'), ('was', 'O'), ('not', 'O'), ('to', 'O'), ('last', 'O'), (',', 'O'), ('and', 'O'), ('they', 'O'), ('later', 'O'), ('became', 'O'), ('friends', 'O'), ('.', 'O')]\n"
     ]
    }
   ],
   "source": [
    "tokenized_text = word_tokenize(text)\n",
    "text_ner3 = st3.tag(tokenized_text)\n",
    "text_ner7 = st7.tag(tokenized_text)\n",
    "\n",
    "print(text_ner3)\n",
    "print(text_ner7)"
   ]
  },
  {
   "cell_type": "markdown",
   "metadata": {},
   "source": [
    "We see that each word is tagged. Tags are for instance `ORGANIZATION` or `PERSON`. Very prominently, the `O` tag appears often. This is the `other` class (everything that is not an organisation or person, etc.).\n",
    "But it is still an aweful lot of text. Let's just have a look at the non-other entities detected. We do this assuming that adjacent words having the same tag should be collapsed into one named entity."
   ]
  },
  {
   "cell_type": "code",
   "execution_count": 13,
   "metadata": {},
   "outputs": [
    {
     "name": "stdout",
     "output_type": "stream",
     "text": [
      "**** 3 classes ****\n",
      "PERSON       Lovelace\n",
      "PERSON       Mary Somerville\n",
      "PERSON       Charles Babbage\n",
      "LOCATION     Somerville\n",
      "PERSON       Andrew Crosse\n",
      "PERSON       David Brewster\n",
      "PERSON       Charles Wheatstone\n",
      "PERSON       Michael Faraday\n",
      "PERSON       Charles Dickens\n",
      "PERSON       Ada\n",
      "PERSON       John Hobhouse\n",
      "PERSON       Byron\n",
      "PERSON       Ada\n",
      "PERSON       Hobhouse\n",
      "**** 7 classes ****\n",
      "PERSON       Mary Somerville\n",
      "PERSON       Charles Babbage\n",
      "DATE         1833\n",
      "LOCATION     Somerville\n",
      "PERSON       Andrew Crosse\n",
      "PERSON       David Brewster\n",
      "PERSON       Charles Wheatstone\n",
      "PERSON       Michael Faraday\n",
      "PERSON       Charles Dickens\n",
      "DATE         1834\n",
      "ORGANIZATION Ada\n",
      "PERSON       John Hobhouse\n",
      "PERSON       Byron\n",
      "DATE         February 1834\n",
      "ORGANIZATION Ada\n",
      "PERSON       Hobhouse\n"
     ]
    }
   ],
   "source": [
    "from itertools import groupby\n",
    "\n",
    "print(\"**** 3 classes ****\")\n",
    "for tag, chunk in groupby(text_ner3, lambda x:x[1]):\n",
    "    if tag != \"O\":\n",
    "        print(\"%-12s\"%tag, \" \".join(w for w, t in chunk))\n",
    "        \n",
    "print(\"**** 7 classes ****\")\n",
    "for tag, chunk in groupby(text_ner7, lambda x:x[1]):\n",
    "    if tag != \"O\":\n",
    "        print(\"%-12s\"%tag, \" \".join(w for w, t in chunk))"
   ]
  },
  {
   "cell_type": "markdown",
   "metadata": {},
   "source": [
    "We see that while this is pretty impressive, it still makes errors. For example, one occurrence of Ada is tagged a `ORGANISATION`. You should take the non-perfect nature into account if you use those tags further in your nlp pipeline."
   ]
  },
  {
   "cell_type": "markdown",
   "metadata": {},
   "source": [
    "That's all."
   ]
  },
  {
   "cell_type": "code",
   "execution_count": null,
   "metadata": {},
   "outputs": [],
   "source": []
  }
 ],
 "metadata": {
  "kernelspec": {
   "display_name": "Python 3",
   "language": "python",
   "name": "python3"
  },
  "language_info": {
   "codemirror_mode": {
    "name": "ipython",
    "version": 3
   },
   "file_extension": ".py",
   "mimetype": "text/x-python",
   "name": "python",
   "nbconvert_exporter": "python",
   "pygments_lexer": "ipython3",
   "version": "3.6.6"
  }
 },
 "nbformat": 4,
 "nbformat_minor": 2
}
